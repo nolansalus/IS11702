{
  "nbformat": 4,
  "nbformat_minor": 0,
  "metadata": {
    "colab": {
      "name": "In-Class Assignment",
      "provenance": [],
      "collapsed_sections": []
    },
    "kernelspec": {
      "name": "python3",
      "display_name": "Python 3"
    }
  },
  "cells": [
    {
      "cell_type": "code",
      "metadata": {
        "id": "hzXvqbDwK5Ql",
        "colab_type": "code",
        "outputId": "900a0c0f-4258-4d5b-a590-ee6f477b0002",
        "colab": {
          "base_uri": "https://localhost:8080/",
          "height": 85
        }
      },
      "source": [
        "import nltk\n",
        "nltk.download(\"wordnet\")\n",
        "\n",
        "from nltk.corpus import wordnet\n",
        "synonyms = [];\n",
        "antonyms = [];\n",
        "\n",
        "for syn in wordnet.synsets(\"information\"):\n",
        "\tfor l in syn.lemmas():\n",
        "\t\tsynonyms.append(l.name())\n",
        "\t\tif l.antonyms():\n",
        "\t\t\t\tantonyms.append(l.antonyms()[0].name())\n",
        "print(set(synonyms))\n",
        "print(set(antonyms))"
      ],
      "execution_count": 0,
      "outputs": [
        {
          "output_type": "stream",
          "text": [
            "[nltk_data] Downloading package wordnet to /root/nltk_data...\n",
            "[nltk_data]   Package wordnet is already up-to-date!\n",
            "{'info', 'data', 'entropy', 'selective_information', 'information'}\n",
            "set()\n"
          ],
          "name": "stdout"
        }
      ]
    },
    {
      "cell_type": "markdown",
      "metadata": {
        "id": "3h2RNeeGMkJO",
        "colab_type": "text"
      },
      "source": [
        "**Explanation of the code:**\n",
        "\n",
        "Wordnet is an imported plugin\n",
        "It lists of both the synonyms and antonyms of any given word\n",
        "\n",
        "In the code synonyms of the word \"information\" are searched in the Wordnet system and are appended in the list \"synonyms\" The same process is repeated for the second one.\n",
        "Output is printed\n",
        "-- Any other word can be replace \"information\" --\n",
        "\n",
        "**Conclusion:**\n",
        "\n",
        "WordNet is a database that has been used by a major search engine. From the WordNet, information about a given word or phrase can be calculated as such\n",
        "\n",
        "synonym (words having the same meaning)\n",
        "\n",
        "antonym (words have opposite meaning)"
      ]
    }
  ]
}